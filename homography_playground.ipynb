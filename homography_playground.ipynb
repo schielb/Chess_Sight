{
 "cells": [
  {
   "cell_type": "code",
   "execution_count": 2,
   "metadata": {},
   "outputs": [],
   "source": [
    "import cv2 as cv\n",
    "import numpy as np\n"
   ]
  },
  {
   "cell_type": "code",
   "execution_count": 6,
   "metadata": {},
   "outputs": [
    {
     "name": "stdout",
     "output_type": "stream",
     "text": [
      "NpzFile 'pics/my_cam_matrix.npz' with keys: mtx, dist\n"
     ]
    }
   ],
   "source": [
    "# Start by getting the params from my_cam_matrix.npz\n",
    "npz_calib = np.load('pics/my_cam_matrix.npz')\n",
    "\n",
    "print(npz_calib)\n",
    "\n",
    "# Get the camera matrix and distortion coefficients\n",
    "camera_matrix = npz_calib['mtx']\n",
    "dist_coeffs = npz_calib['dist']\n",
    "\n",
    "# Get all jpg files in pics/\n",
    "import os\n",
    "pics = [f for f in os.listdir('pics/') if f.endswith('.jpg') and f.startswith('2024')]\n",
    "\n",
    "# Loop through all the pics\n",
    "for pic in pics:\n",
    "    # Read the image\n",
    "    img = cv.imread('pics/' + pic)\n",
    "    # Get the shape of the image\n",
    "    h, w = img.shape[:2]\n",
    "    # Get the new camera matrix\n",
    "    # new_camera_matrix, roi = cv.getOptimalNewCameraMatrix(camera_matrix, dist_coeffs, (w, h), 1, (w, h))\n",
    "    # Undistort the image\n",
    "    undistorted_img = cv.undistort(img, camera_matrix, dist_coeffs)#, None, new_camera_matrix)\n",
    "    # Save the undistorted image\n",
    "    # cv.imwrite('pics/undistorted_' + pic, undistorted_img)\n",
    "    # Show the undistorted image\n",
    "    cv.imshow('Undistorted Image', undistorted_img)\n",
    "    if cv.waitKey(0) & 0xFF == ord('q'):\n",
    "        break\n",
    "    \n",
    "cv.destroyAllWindows()"
   ]
  }
 ],
 "metadata": {
  "kernelspec": {
   "display_name": ".venv",
   "language": "python",
   "name": "python3"
  },
  "language_info": {
   "codemirror_mode": {
    "name": "ipython",
    "version": 3
   },
   "file_extension": ".py",
   "mimetype": "text/x-python",
   "name": "python",
   "nbconvert_exporter": "python",
   "pygments_lexer": "ipython3",
   "version": "3.10.12"
  }
 },
 "nbformat": 4,
 "nbformat_minor": 2
}
