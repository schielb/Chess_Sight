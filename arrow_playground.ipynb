{
 "cells": [
  {
   "cell_type": "code",
   "execution_count": 26,
   "metadata": {},
   "outputs": [],
   "source": [
    "import cv2 as cv\n",
    "import numpy as np\n",
    "\n",
    "from chess_homography import get_centers, get_board, get_move, tranform_points\n",
    "\n",
    "query = cv.imread('query.jpg')\n",
    "reference = cv.imread('arrow_test.jpg')\n",
    "\n",
    "centers, corners = get_centers(query, plot=False, return_corners=True)"
   ]
  },
  {
   "cell_type": "code",
   "execution_count": 12,
   "metadata": {},
   "outputs": [],
   "source": [
    "centers.shape\n",
    "centers_ = np.squeeze(centers)\n",
    "# Cast centers_ to int\n",
    "\n",
    "\n",
    "centers_.shape\n",
    "\n",
    "query_ = query.copy()\n",
    "\n",
    "for center in centers_:\n",
    "    cv.circle(query_, (int(center[0]), int(center[1])), 5, (0, 0, 255), -1)\n",
    "\n",
    "cv.imshow('query', query_)\n",
    "cv.waitKey(0)\n",
    "cv.destroyAllWindows()\n"
   ]
  },
  {
   "cell_type": "code",
   "execution_count": 29,
   "metadata": {},
   "outputs": [],
   "source": [
    "ref_ = reference.copy()\n",
    "\n",
    "ret, pts1, pts2 = tranform_points(query, ref_, centers, False)\n",
    "pts2_ = np.squeeze(pts2)\n",
    "\n",
    "\n",
    "\n",
    "# ref__ = reference.copy()\n",
    "\n",
    "# for pt2 in pts2_:\n",
    "#     cv.circle(ref__, (int(pt2[0]), int(pt2[1])), 5, (0, 0, 255), -1)\n",
    "\n",
    "# cv.imshow('ref__', ref__)\n",
    "# cv.waitKey(0)\n",
    "# cv.destroyAllWindows()\n",
    "\n"
   ]
  },
  {
   "cell_type": "code",
   "execution_count": 32,
   "metadata": {},
   "outputs": [],
   "source": [
    "height, width = query.shape[:2]\n",
    "M, mask = cv.findHomography(pts2, pts1, cv.RANSAC, 5.0)\n",
    "warped_canvas = cv.warpPerspective(reference, M, (width, height))\n",
    "\n",
    "cv.imshow('warped_canvas', warped_canvas)\n",
    "cv.waitKey(0)\n",
    "\n",
    "cv.destroyAllWindows()"
   ]
  },
  {
   "cell_type": "code",
   "execution_count": 37,
   "metadata": {},
   "outputs": [],
   "source": [
    "letters = {'a': 0, 'b': 1, 'c': 2, 'd': 3, 'e': 4, 'f': 5, 'g': 6, 'h': 7}\n",
    "\n",
    "move = \"e5f7\"\n",
    "\n",
    "start = (letters[move[0]], 8 - (int(move[1])))\n",
    "end = (letters[move[2]], 8 - (int(move[3])))\n",
    "\n",
    "start = (start[1], start[0])\n",
    "end = (end[1], end[0])\n",
    "\n",
    "start_in_ref = (pts2_[start[0] * 8 + start[1]][0], pts2_[start[0] * 8 + start[1]][1])\n",
    "end_in_ref = (pts2_[end[0] * 8 + end[1]][0], pts2_[end[0] * 8 + end[1]][1])\n",
    "\n",
    "# Draw line in reference\n",
    "ref__ = reference.copy()\n",
    "\n",
    "cv.line(ref__, (int(start_in_ref[0]), int(start_in_ref[1])), (int(end_in_ref[0]), int(end_in_ref[1])), (0, 0, 255), 5)\n",
    "\n",
    "cv.imshow('ref__', ref__)\n",
    "cv.waitKey(0)\n",
    "cv.destroyAllWindows()"
   ]
  },
  {
   "cell_type": "code",
   "execution_count": null,
   "metadata": {},
   "outputs": [],
   "source": [
    "cv.destroyAllWindows()"
   ]
  }
 ],
 "metadata": {
  "kernelspec": {
   "display_name": "Python 3",
   "language": "python",
   "name": "python3"
  },
  "language_info": {
   "codemirror_mode": {
    "name": "ipython",
    "version": 3
   },
   "file_extension": ".py",
   "mimetype": "text/x-python",
   "name": "python",
   "nbconvert_exporter": "python",
   "pygments_lexer": "ipython3",
   "version": "3.11.8"
  }
 },
 "nbformat": 4,
 "nbformat_minor": 2
}
